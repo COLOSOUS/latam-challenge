{
 "cells": [
  {
   "cell_type": "markdown",
   "metadata": {},
   "source": [
    "En este archivo puedes escribir lo que estimes conveniente. Te recomendamos detallar tu solución y todas las suposiciones que estás considerando. Aquí puedes ejecutar las funciones que definiste en los otros archivos de la carpeta src, medir el tiempo, memoria, etc."
   ]
  },
  {
   "cell_type": "code",
   "execution_count": 1,
   "metadata": {},
   "outputs": [],
   "source": [
    "file_path = \"farmers-protest-tweets-2021-2-4.json\""
   ]
  },
  {
   "cell_type": "markdown",
   "metadata": {},
   "source": [
    "# Data Engineer Challenge\n",
    "### Procesamiento y análisis de datos de Twitter\n",
    "\n",
    "\n",
    "Este notebook tiene como objetivo resolver el desafío de ingeniería de datos para procesar un conjunto de datos de tweets y extraer información clave utilizando Python. Se implementan soluciones optimizadas para tiempo y memoria."
   ]
  },
  {
   "cell_type": "code",
   "execution_count": 2,
   "metadata": {},
   "outputs": [
    {
     "name": "stdout",
     "output_type": "stream",
     "text": [
      "Requirement already satisfied: memory-profiler==0.61.0 in c:\\users\\victor\\anaconda3\\lib\\site-packages (from -r ../requirements.txt (line 1)) (0.61.0)\n",
      "Requirement already satisfied: psutil in c:\\users\\victor\\appdata\\roaming\\python\\python312\\site-packages (from memory-profiler==0.61.0->-r ../requirements.txt (line 1)) (5.9.8)\n"
     ]
    }
   ],
   "source": [
    "!pip install -r ../requirements.txt"
   ]
  },
  {
   "cell_type": "markdown",
   "metadata": {},
   "source": [
    "### Se descarga la base de datos a utilizar"
   ]
  },
  {
   "cell_type": "code",
   "execution_count": 18,
   "metadata": {},
   "outputs": [
    {
     "name": "stderr",
     "output_type": "stream",
     "text": [
      "Downloading...\n",
      "From (original): https://drive.google.com/uc?id=1ig2ngoXFTxP5Pa8muXo02mDTFexZzsis\n",
      "From (redirected): https://drive.google.com/uc?id=1ig2ngoXFTxP5Pa8muXo02mDTFexZzsis&confirm=t&uuid=c164bddb-122a-492f-a9d2-e470c187f4ef\n",
      "To: c:\\Users\\Victor\\Desktop\\latam\\latam-challenge\\src\\tweets.json.zip\n",
      "100%|██████████| 60.4M/60.4M [00:02<00:00, 23.2MB/s]\n"
     ]
    },
    {
     "data": {
      "text/plain": [
       "'tweets.json.zip'"
      ]
     },
     "execution_count": 18,
     "metadata": {},
     "output_type": "execute_result"
    }
   ],
   "source": [
    "import gdown\n",
    "\n",
    "# Ahora puedes continuar con la descarga de archivos desde Google Drive\n",
    "file_id = \"1ig2ngoXFTxP5Pa8muXo02mDTFexZzsis\"\n",
    "url = f\"https://drive.google.com/uc?id={file_id}\"\n",
    "\n",
    "gdown.download(url, quiet=False)"
   ]
  },
  {
   "cell_type": "markdown",
   "metadata": {},
   "source": [
    "### Se descomprime"
   ]
  },
  {
   "cell_type": "code",
   "execution_count": 21,
   "metadata": {},
   "outputs": [
    {
     "name": "stdout",
     "output_type": "stream",
     "text": [
      "Descompresión completa.\n"
     ]
    }
   ],
   "source": [
    "import zipfile\n",
    "import os\n",
    "\n",
    "# Ruta al archivo ZIP\n",
    "zip_file_path = \"tweets.json.zip\"  # Reemplaza con la ruta de tu archivo ZIP\n",
    "extract_folder = \"/Users/Victor/Desktop/latam/latam-challenge/src\"  # Carpeta donde se extraerán los archivos\n",
    "\n",
    "# Asegúrate de que la carpeta de extracción exista\n",
    "os.makedirs(extract_folder, exist_ok=True)\n",
    "\n",
    "# Descomprimir el archivo ZIP\n",
    "with zipfile.ZipFile(zip_file_path, 'r') as zip_ref:\n",
    "    zip_ref.extractall(extract_folder)\n",
    "\n",
    "print(\"Descompresión completa.\")"
   ]
  },
  {
   "cell_type": "markdown",
   "metadata": {},
   "source": [
    "### Se cargan las librerias"
   ]
  },
  {
   "cell_type": "code",
   "execution_count": 22,
   "metadata": {},
   "outputs": [],
   "source": [
    "#Librerias utiles para vizualizar la data y funciones a\n",
    "import pandas as pd\n",
    "import datetime\n",
    "from q1_time import q1_time\n",
    "from q1_memory import q1_memory\n",
    "from q2_time import q2_time\n",
    "from q2_memory import q2_memory\n",
    "from q3_time import q3_time\n",
    "from q3_memory import q3_memory\n",
    "import time\n",
    "\n",
    "#En caso de error al descargar alguna libreria restablecer el kernel o revisar el kernel correcto"
   ]
  },
  {
   "cell_type": "code",
   "execution_count": 23,
   "metadata": {},
   "outputs": [],
   "source": [
    "# Cargar el archivo de datos\n",
    "file_path = \"farmers-protest-tweets-2021-2-4.json\""
   ]
  },
  {
   "cell_type": "markdown",
   "metadata": {},
   "source": [
    "### -Se crea las funciones \"medir_tiempo()\" para calcular cuando dura el algoritmo en entregar el resultado.\n",
    "\n",
    "### -Se crea las funciones \"medir_memoria()\" para calcular cuando dura memoria ocupa el algoritmo."
   ]
  },
  {
   "cell_type": "code",
   "execution_count": 24,
   "metadata": {},
   "outputs": [],
   "source": [
    "from memory_profiler import memory_usage\n",
    "\n",
    "# Función para medir el tiempo de ejecución\n",
    "def medir_tiempo(func, *args):\n",
    "    inicio = time.time()\n",
    "    resultado = func(*args)\n",
    "    fin = time.time()\n",
    "    print(f\"Tiempo de ejecución: {fin - inicio} segundos\")\n",
    "    return resultado\n",
    "\n",
    "# Función para medir el uso de memoria\n",
    "def medir_memoria(func, *args):\n",
    "    memoria_inicial = memory_usage(-1, interval=0.1, timeout=1)\n",
    "    resultado = func(*args)\n",
    "    memoria_final = memory_usage(-1, interval=0.1, timeout=1)\n",
    "    print(f\"Memoria usada: {memoria_final[0] - memoria_inicial[0]} MiB\")\n",
    "    return resultado"
   ]
  },
  {
   "cell_type": "markdown",
   "metadata": {},
   "source": [
    "### Una muestra de los 10 primeras lineas, para ver el contenido en el json"
   ]
  },
  {
   "cell_type": "code",
   "execution_count": 25,
   "metadata": {},
   "outputs": [
    {
     "name": "stdout",
     "output_type": "stream",
     "text": [
      "                                                 url  \\\n",
      "0  https://twitter.com/ArjunSinghPanam/status/136...   \n",
      "1  https://twitter.com/PrdeepNain/status/13645062...   \n",
      "2  https://twitter.com/parmarmaninder/status/1364...   \n",
      "3  https://twitter.com/anmoldhaliwal/status/13645...   \n",
      "4  https://twitter.com/KotiaPreet/status/13645061...   \n",
      "5  https://twitter.com/babli_708/status/136450612...   \n",
      "6  https://twitter.com/Varinde17354019/status/136...   \n",
      "7  https://twitter.com/BitnamSingh/status/1364505...   \n",
      "8  https://twitter.com/anmoldhaliwal/status/13645...   \n",
      "9  https://twitter.com/SatThiara/status/136450589...   \n",
      "\n",
      "                       date  \\\n",
      "0 2021-02-24 09:23:35+00:00   \n",
      "1 2021-02-24 09:23:32+00:00   \n",
      "2 2021-02-24 09:23:22+00:00   \n",
      "3 2021-02-24 09:23:16+00:00   \n",
      "4 2021-02-24 09:23:10+00:00   \n",
      "5 2021-02-24 09:23:05+00:00   \n",
      "6 2021-02-24 09:22:54+00:00   \n",
      "7 2021-02-24 09:22:35+00:00   \n",
      "8 2021-02-24 09:22:34+00:00   \n",
      "9 2021-02-24 09:22:11+00:00   \n",
      "\n",
      "                                             content  \\\n",
      "0  The world progresses while the Indian police a...   \n",
      "1  #FarmersProtest \\n#ModiIgnoringFarmersDeaths \\...   \n",
      "2  ਪੈਟਰੋਲ ਦੀਆਂ ਕੀਮਤਾਂ ਨੂੰ ਮੱਦੇਨਜ਼ਰ ਰੱਖਦੇ ਹੋਏ \\nਮੇ...   \n",
      "3  @ReallySwara @rohini_sgh watch full video here...   \n",
      "4  #KisanEktaMorcha #FarmersProtest #NoFarmersNoF...   \n",
      "5  Jai jwaan jai kissan #FarmersProtest #ModiIgno...   \n",
      "6                                    #FarmersProtest   \n",
      "7  #ModiDontSellFarmers\\n#FarmersProtest https://...   \n",
      "8  @mandeeppunia1 watch full video here https://t...   \n",
      "9            #FarmersProtest https://t.co/ehd5FBSZGx   \n",
      "\n",
      "                                     renderedContent                   id  \\\n",
      "0  The world progresses while the Indian police a...  1364506249291784198   \n",
      "1  #FarmersProtest \\n#ModiIgnoringFarmersDeaths \\...  1364506237451313155   \n",
      "2  ਪੈਟਰੋਲ ਦੀਆਂ ਕੀਮਤਾਂ ਨੂੰ ਮੱਦੇਨਜ਼ਰ ਰੱਖਦੇ ਹੋਏ \\nਮੇ...  1364506195453767680   \n",
      "3  @ReallySwara @rohini_sgh watch full video here...  1364506167226032128   \n",
      "4  #KisanEktaMorcha #FarmersProtest #NoFarmersNoF...  1364506144002088963   \n",
      "5  Jai jwaan jai kissan #FarmersProtest #ModiIgno...  1364506120497360896   \n",
      "6                                    #FarmersProtest  1364506076272496640   \n",
      "7  #ModiDontSellFarmers\\n#FarmersProtest twitter....  1364505995859423234   \n",
      "8  @mandeeppunia1 watch full video here youtu.be/...  1364505991887347714   \n",
      "9        #FarmersProtest twitter.com/borisjohnson/s…  1364505896576053248   \n",
      "\n",
      "                                                user  \\\n",
      "0  {'username': 'ArjunSinghPanam', 'displayname':...   \n",
      "1  {'username': 'PrdeepNain', 'displayname': 'Pra...   \n",
      "2  {'username': 'parmarmaninder', 'displayname': ...   \n",
      "3  {'username': 'anmoldhaliwal', 'displayname': '...   \n",
      "4  {'username': 'KotiaPreet', 'displayname': 'Pre...   \n",
      "5  {'username': 'babli_708', 'displayname': 'Babl...   \n",
      "6  {'username': 'Varinde17354019', 'displayname':...   \n",
      "7  {'username': 'BitnamSingh', 'displayname': 'Bi...   \n",
      "8  {'username': 'anmoldhaliwal', 'displayname': '...   \n",
      "9  {'username': 'SatThiara', 'displayname': 'Sat ...   \n",
      "\n",
      "                                            outlinks  \\\n",
      "0  [https://twitter.com/ravisinghka/status/136415...   \n",
      "1                                                 []   \n",
      "2                                                 []   \n",
      "3                     [https://youtu.be/-bUKumwq-J8]   \n",
      "4                                                 []   \n",
      "5  [https://twitter.com/rajeshpunia15/status/1364...   \n",
      "6                                                 []   \n",
      "7  [https://twitter.com/jagjitvaheguru/status/136...   \n",
      "8                     [https://youtu.be/-bUKumwq-J8]   \n",
      "9  [https://twitter.com/borisjohnson/status/13642...   \n",
      "\n",
      "                 tcooutlinks  replyCount  retweetCount  ...  quoteCount  \\\n",
      "0  [https://t.co/es3kn0IQAF]           0             0  ...           0   \n",
      "1                         []           0             0  ...           0   \n",
      "2                         []           0             0  ...           0   \n",
      "3  [https://t.co/wBPNdJdB0n]           0             0  ...           0   \n",
      "4                         []           0             0  ...           0   \n",
      "5  [https://t.co/LXi7d92wwf]           0             0  ...           0   \n",
      "6                         []           0             0  ...           0   \n",
      "7  [https://t.co/uGQb1O5Jg9]           0             0  ...           0   \n",
      "8  [https://t.co/wBPNdJdB0n]           0             0  ...           0   \n",
      "9  [https://t.co/ehd5FBSZGx]           0             0  ...           0   \n",
      "\n",
      "        conversationId  lang  \\\n",
      "0  1364506249291784198    en   \n",
      "1  1364506237451313155    en   \n",
      "2  1364506195453767680    pa   \n",
      "3  1364350947099484160    en   \n",
      "4  1364506144002088963   und   \n",
      "5  1364506120497360896    hi   \n",
      "6  1364506076272496640   und   \n",
      "7  1364505995859423234   und   \n",
      "8  1364428985074032646    en   \n",
      "9  1364505896576053248   und   \n",
      "\n",
      "                                              source  \\\n",
      "0  <a href=\"http://twitter.com/download/iphone\" r...   \n",
      "1  <a href=\"http://twitter.com/download/android\" ...   \n",
      "2  <a href=\"http://twitter.com/download/android\" ...   \n",
      "3  <a href=\"https://mobile.twitter.com\" rel=\"nofo...   \n",
      "4  <a href=\"http://twitter.com/download/iphone\" r...   \n",
      "5  <a href=\"http://twitter.com/download/iphone\" r...   \n",
      "6  <a href=\"http://twitter.com/download/android\" ...   \n",
      "7  <a href=\"https://mobile.twitter.com\" rel=\"nofo...   \n",
      "8  <a href=\"https://mobile.twitter.com\" rel=\"nofo...   \n",
      "9  <a href=\"http://twitter.com/download/iphone\" r...   \n",
      "\n",
      "                             sourceUrl          sourceLabel  \\\n",
      "0   http://twitter.com/download/iphone   Twitter for iPhone   \n",
      "1  http://twitter.com/download/android  Twitter for Android   \n",
      "2  http://twitter.com/download/android  Twitter for Android   \n",
      "3           https://mobile.twitter.com      Twitter Web App   \n",
      "4   http://twitter.com/download/iphone   Twitter for iPhone   \n",
      "5   http://twitter.com/download/iphone   Twitter for iPhone   \n",
      "6  http://twitter.com/download/android  Twitter for Android   \n",
      "7           https://mobile.twitter.com      Twitter Web App   \n",
      "8           https://mobile.twitter.com      Twitter Web App   \n",
      "9   http://twitter.com/download/iphone   Twitter for iPhone   \n",
      "\n",
      "                                               media retweetedTweet  \\\n",
      "0                                               None            NaN   \n",
      "1  [{'thumbnailUrl': 'https://pbs.twimg.com/ext_t...            NaN   \n",
      "2                                               None            NaN   \n",
      "3  [{'thumbnailUrl': 'https://pbs.twimg.com/ext_t...            NaN   \n",
      "4  [{'previewUrl': 'https://pbs.twimg.com/media/E...            NaN   \n",
      "5                                               None            NaN   \n",
      "6                                               None            NaN   \n",
      "7                                               None            NaN   \n",
      "8  [{'thumbnailUrl': 'https://pbs.twimg.com/ext_t...            NaN   \n",
      "9                                               None            NaN   \n",
      "\n",
      "                                         quotedTweet  \\\n",
      "0  {'url': 'https://twitter.com/RaviSinghKA/statu...   \n",
      "1                                               None   \n",
      "2                                               None   \n",
      "3                                               None   \n",
      "4                                               None   \n",
      "5  {'url': 'https://twitter.com/RajeshPunia15/sta...   \n",
      "6                                               None   \n",
      "7  {'url': 'https://twitter.com/jagjitvaheguru/st...   \n",
      "8                                               None   \n",
      "9  {'url': 'https://twitter.com/BorisJohnson/stat...   \n",
      "\n",
      "                                      mentionedUsers  \n",
      "0  [{'username': 'narendramodi', 'displayname': '...  \n",
      "1  [{'username': 'Kisanektamorcha', 'displayname'...  \n",
      "2                                               None  \n",
      "3  [{'username': 'ReallySwara', 'displayname': 'S...  \n",
      "4                                               None  \n",
      "5                                               None  \n",
      "6                                               None  \n",
      "7                                               None  \n",
      "8  [{'username': 'mandeeppunia1', 'displayname': ...  \n",
      "9                                               None  \n",
      "\n",
      "[10 rows x 21 columns]\n"
     ]
    }
   ],
   "source": [
    "import pandas as pd\n",
    "\n",
    "# Abrir el archivo JSON en modo de lectura de líneas\n",
    "with pd.read_json(file_path, lines=True, chunksize=10) as reader:\n",
    "    for chunk in reader:\n",
    "        # Mostrar solo las primeras 10 líneas\n",
    "        print(chunk.head(10))\n",
    "        break  # Para detener el streaming después de leer las primeras 10 líneas"
   ]
  },
  {
   "cell_type": "markdown",
   "metadata": {},
   "source": [
    "### A continuación, crea una sección para ejecutar cada una de las funciones que has desarrollado, utilizando las funciones para medir el tiempo y la memoria.\n",
    "\n",
    "# a) Q1: Fechas con más tweets y usuario más activo\n",
    "\n",
    "Se hace una desmotracion de las 2 funciones Q1 y mediciones de tiempo y memoria para cada una."
   ]
  },
  {
   "cell_type": "markdown",
   "metadata": {},
   "source": [
    "## Mejora tiempo"
   ]
  },
  {
   "cell_type": "code",
   "execution_count": 29,
   "metadata": {},
   "outputs": [
    {
     "name": "stdout",
     "output_type": "stream",
     "text": [
      "Q1 - Optimización en tiempo\n",
      "Tiempo de ejecución: 12.52292537689209 segundos\n",
      "Memoria usada: -333.1875 MiB\n",
      "Resultado de la función\n",
      "{datetime.date(2021, 2, 12): {'count': 12347, 'top_user': 'RanbirS00614606'}, datetime.date(2021, 2, 13): {'count': 11296, 'top_user': 'MaanDee08215437'}, datetime.date(2021, 2, 17): {'count': 11087, 'top_user': 'RaaJVinderkaur'}, datetime.date(2021, 2, 16): {'count': 10443, 'top_user': 'jot__b'}, datetime.date(2021, 2, 14): {'count': 10249, 'top_user': 'rebelpacifist'}, datetime.date(2021, 2, 18): {'count': 9625, 'top_user': 'neetuanjle_nitu'}, datetime.date(2021, 2, 15): {'count': 9197, 'top_user': 'jot__b'}, datetime.date(2021, 2, 20): {'count': 8502, 'top_user': 'MangalJ23056160'}, datetime.date(2021, 2, 23): {'count': 8417, 'top_user': 'Surrypuria'}, datetime.date(2021, 2, 19): {'count': 8204, 'top_user': 'Preetm91'}}\n",
      "{datetime.date(2021, 2, 12): {'count': 12347, 'top_user': 'RanbirS00614606'}, datetime.date(2021, 2, 13): {'count': 11296, 'top_user': 'MaanDee08215437'}, datetime.date(2021, 2, 17): {'count': 11087, 'top_user': 'RaaJVinderkaur'}, datetime.date(2021, 2, 16): {'count': 10443, 'top_user': 'jot__b'}, datetime.date(2021, 2, 14): {'count': 10249, 'top_user': 'rebelpacifist'}, datetime.date(2021, 2, 18): {'count': 9625, 'top_user': 'neetuanjle_nitu'}, datetime.date(2021, 2, 15): {'count': 9197, 'top_user': 'jot__b'}, datetime.date(2021, 2, 20): {'count': 8502, 'top_user': 'MangalJ23056160'}, datetime.date(2021, 2, 23): {'count': 8417, 'top_user': 'Surrypuria'}, datetime.date(2021, 2, 19): {'count': 8204, 'top_user': 'Preetm91'}}\n"
     ]
    }
   ],
   "source": [
    "print(\"Q1 - Optimización en tiempo\")\n",
    "q1_time_result = medir_tiempo(q1_time, file_path)\n",
    "\n",
    "\n",
    "q1_time_result2 = medir_memoria(q1_time, file_path)\n",
    "\n",
    "print(\"Resultado de la funciones\")\n",
    "print(q1_time_result)\n",
    "print(q1_time_result2)"
   ]
  },
  {
   "cell_type": "markdown",
   "metadata": {},
   "source": [
    "## Mejora memoria"
   ]
  },
  {
   "cell_type": "code",
   "execution_count": 30,
   "metadata": {},
   "outputs": [
    {
     "name": "stdout",
     "output_type": "stream",
     "text": [
      "Q1 - Optimización en memoria\n",
      "Tiempo de ejecución: 15.042899370193481 segundos\n",
      "Memoria usada: 0.03125 MiB\n",
      "Resultado de la función\n",
      "[(datetime.date(2021, 2, 12), 'RanbirS00614606'), (datetime.date(2021, 2, 13), 'MaanDee08215437'), (datetime.date(2021, 2, 17), 'RaaJVinderkaur'), (datetime.date(2021, 2, 16), 'jot__b'), (datetime.date(2021, 2, 14), 'rebelpacifist'), (datetime.date(2021, 2, 18), 'neetuanjle_nitu'), (datetime.date(2021, 2, 15), 'jot__b'), (datetime.date(2021, 2, 20), 'MangalJ23056160'), (datetime.date(2021, 2, 23), 'Surrypuria'), (datetime.date(2021, 2, 19), 'Preetm91')]\n",
      "[(datetime.date(2021, 2, 12), 'RanbirS00614606'), (datetime.date(2021, 2, 13), 'MaanDee08215437'), (datetime.date(2021, 2, 17), 'RaaJVinderkaur'), (datetime.date(2021, 2, 16), 'jot__b'), (datetime.date(2021, 2, 14), 'rebelpacifist'), (datetime.date(2021, 2, 18), 'neetuanjle_nitu'), (datetime.date(2021, 2, 15), 'jot__b'), (datetime.date(2021, 2, 20), 'MangalJ23056160'), (datetime.date(2021, 2, 23), 'Surrypuria'), (datetime.date(2021, 2, 19), 'Preetm91')]\n"
     ]
    }
   ],
   "source": [
    "print(\"Q1 - Optimización en memoria\")\n",
    "q1_memory_result = medir_tiempo(q1_memory, file_path)\n",
    "\n",
    "\n",
    "\n",
    "q1_memory_result2 = medir_memoria(q1_memory, file_path)\n",
    "print(\"Resultado de la funciones\")\n",
    "print(q1_memory_result)\n",
    "print(q1_memory_result2)"
   ]
  },
  {
   "cell_type": "markdown",
   "metadata": {},
   "source": [
    "# b) Q2: Top 10 emojis más usados\n",
    "\n",
    "Se hace una desmotracion de las 2 funciones Q2 y mediciones de tiempo y memoria para cada una."
   ]
  },
  {
   "cell_type": "markdown",
   "metadata": {},
   "source": [
    "## Mejora tiempo"
   ]
  },
  {
   "cell_type": "code",
   "execution_count": 31,
   "metadata": {},
   "outputs": [
    {
     "name": "stdout",
     "output_type": "stream",
     "text": [
      "Q2 - Optimización en tiempo\n",
      "Tiempo de ejecución: 16.017983436584473 segundos\n",
      "Memoria usada: 14.71484375 MiB\n",
      "Resultado de la funciones\n",
      "[('🙏', 7286), ('😂', 3072), ('🚜', 2972), ('✊', 2411), ('🌾', 2363), ('🏻', 2080), ('❤', 1779), ('🤣', 1668), ('🏽', 1218), ('👇', 1108)]\n",
      "[('🙏', 7286), ('😂', 3072), ('🚜', 2972), ('✊', 2411), ('🌾', 2363), ('🏻', 2080), ('❤', 1779), ('🤣', 1668), ('🏽', 1218), ('👇', 1108)]\n"
     ]
    }
   ],
   "source": [
    "print(\"Q2 - Optimización en tiempo\")\n",
    "q2_time_result = medir_tiempo(q2_time, file_path)\n",
    "\n",
    "\n",
    "q2_time_result2 = medir_memoria(q2_time, file_path)\n",
    "\n",
    "print(\"Resultado de la funciones\")\n",
    "print(q2_time_result)\n",
    "print(q2_time_result2)"
   ]
  },
  {
   "cell_type": "markdown",
   "metadata": {},
   "source": [
    "## Mejora memoria"
   ]
  },
  {
   "cell_type": "code",
   "execution_count": 32,
   "metadata": {},
   "outputs": [
    {
     "name": "stdout",
     "output_type": "stream",
     "text": [
      "Q2 - Optimización en memoria\n",
      "Tiempo de ejecución: 17.055907249450684 segundos\n",
      "Memoria usada: 0.0 MiB\n",
      "Resultado de la funciones\n",
      "[('🙏', 7286), ('😂', 3072), ('🚜', 2972), ('✊', 2411), ('🌾', 2363), ('🏻', 2080), ('❤', 1779), ('🤣', 1668), ('🏽', 1218), ('👇', 1108)]\n",
      "[('🙏', 7286), ('😂', 3072), ('🚜', 2972), ('✊', 2411), ('🌾', 2363), ('🏻', 2080), ('❤', 1779), ('🤣', 1668), ('🏽', 1218), ('👇', 1108)]\n"
     ]
    }
   ],
   "source": [
    "print(\"Q2 - Optimización en memoria\")\n",
    "q2_memory_result = medir_tiempo(q2_memory, file_path)\n",
    "\n",
    "\n",
    "\n",
    "q2_memory_result2 = medir_memoria(q2_memory, file_path)\n",
    "print(\"Resultado de la funciones\")\n",
    "print(q2_memory_result)\n",
    "print(q2_memory_result2)"
   ]
  },
  {
   "cell_type": "markdown",
   "metadata": {},
   "source": [
    "# c) Q3: Usuarios más influyentes\n",
    "Se hace una desmotracion de las 2 funciones Q2 y mediciones de tiempo y memoria para cada una."
   ]
  },
  {
   "cell_type": "markdown",
   "metadata": {},
   "source": [
    "## Mejora tiempo"
   ]
  },
  {
   "cell_type": "code",
   "execution_count": 33,
   "metadata": {},
   "outputs": [
    {
     "name": "stdout",
     "output_type": "stream",
     "text": [
      "Q3 - Optimización en memoria\n",
      "Tiempo de ejecución: 10.715787887573242 segundos\n",
      "Memoria usada: 0.0 MiB\n",
      "Resultado de la funciones\n",
      "[('@narendramodi', 2261), ('@Kisanektamorcha', 1836), ('@RakeshTikaitBKU', 1639), ('@PMOIndia', 1422), ('@RahulGandhi', 1125), ('@GretaThunberg', 1046), ('@RaviSinghKA', 1015), ('@rihanna', 972), ('@UNHumanRights', 962), ('@meenaharris', 925)]\n",
      "[('@narendramodi', 2261), ('@Kisanektamorcha', 1836), ('@RakeshTikaitBKU', 1639), ('@PMOIndia', 1422), ('@RahulGandhi', 1125), ('@GretaThunberg', 1046), ('@RaviSinghKA', 1015), ('@rihanna', 972), ('@UNHumanRights', 962), ('@meenaharris', 925)]\n"
     ]
    }
   ],
   "source": [
    "print(\"Q3 - Optimización en memoria\")\n",
    "q3_memory_result = medir_tiempo(q3_memory, file_path)\n",
    "\n",
    "\n",
    "\n",
    "q3_memory_result2 = medir_memoria(q3_memory, file_path)\n",
    "print(\"Resultado de la funciones\")\n",
    "print(q3_memory_result)\n",
    "print(q3_memory_result2)"
   ]
  },
  {
   "cell_type": "markdown",
   "metadata": {},
   "source": [
    "## Mejora memoria"
   ]
  },
  {
   "cell_type": "code",
   "execution_count": 34,
   "metadata": {},
   "outputs": [
    {
     "name": "stdout",
     "output_type": "stream",
     "text": [
      "Q1 - Optimización en memoria\n",
      "Tiempo de ejecución: 12.000993013381958 segundos\n",
      "Memoria usada: 0.0 MiB\n",
      "Resultado de la funciones\n",
      "[('@narendramodi', 2261), ('@Kisanektamorcha', 1836), ('@RakeshTikaitBKU', 1639), ('@PMOIndia', 1422), ('@RahulGandhi', 1125), ('@GretaThunberg', 1046), ('@RaviSinghKA', 1015), ('@rihanna', 972), ('@UNHumanRights', 962), ('@meenaharris', 925)]\n",
      "[('@narendramodi', 2261), ('@Kisanektamorcha', 1836), ('@RakeshTikaitBKU', 1639), ('@PMOIndia', 1422), ('@RahulGandhi', 1125), ('@GretaThunberg', 1046), ('@RaviSinghKA', 1015), ('@rihanna', 972), ('@UNHumanRights', 962), ('@meenaharris', 925)]\n"
     ]
    }
   ],
   "source": [
    "print(\"Q1 - Optimización en memoria\")\n",
    "q3_memory_result = medir_tiempo(q3_memory, file_path)\n",
    "\n",
    "\n",
    "\n",
    "q3_memory_result2 = medir_memoria(q3_memory, file_path)\n",
    "print(\"Resultado de la funciones\")\n",
    "print(q3_memory_result)\n",
    "print(q3_memory_result2)"
   ]
  },
  {
   "cell_type": "markdown",
   "metadata": {},
   "source": [
    "# Conclusiones"
   ]
  },
  {
   "cell_type": "markdown",
   "metadata": {},
   "source": [
    "- En términos de tiempo, la optimización de las funciones [Q1/Q2/Q3] utilizando [explicar técnicas] logró reducir el tiempo de ejecución en un 5- 15% aprox.\n",
    "- En términos de memoria, las optimizaciones aplicadas permitieron reducir el uso de memoria en un 95% .\n",
    "\n",
    "### Posibles mejoras\n",
    "- Se podrían implementar soluciones en paralelo para procesar más eficientemente grandes volúmenes de datos.Como uso de gpu o multiples nucleos cpu.\n",
    "- Una opción sería utilizar tecnologías cloud como GCP para distribuir el procesamiento.\n"
   ]
  },
  {
   "cell_type": "markdown",
   "metadata": {},
   "source": []
  }
 ],
 "metadata": {
  "kernelspec": {
   "display_name": "base",
   "language": "python",
   "name": "python3"
  },
  "language_info": {
   "codemirror_mode": {
    "name": "ipython",
    "version": 3
   },
   "file_extension": ".py",
   "mimetype": "text/x-python",
   "name": "python",
   "nbconvert_exporter": "python",
   "pygments_lexer": "ipython3",
   "version": "3.12.4"
  },
  "orig_nbformat": 4
 },
 "nbformat": 4,
 "nbformat_minor": 2
}
