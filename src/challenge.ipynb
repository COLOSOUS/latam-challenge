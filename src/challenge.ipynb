{
 "cells": [
  {
   "cell_type": "markdown",
   "metadata": {},
   "source": [
    "En este archivo puedes escribir lo que estimes conveniente. Te recomendamos detallar tu solución y todas las suposiciones que estás considerando. Aquí puedes ejecutar las funciones que definiste en los otros archivos de la carpeta src, medir el tiempo, memoria, etc."
   ]
  },
  {
   "cell_type": "code",
   "execution_count": 1,
   "metadata": {},
   "outputs": [],
   "source": [
    "file_path = \"farmers-protest-tweets-2021-2-4.json\""
   ]
  },
  {
   "cell_type": "markdown",
   "metadata": {},
   "source": [
    "# Data Engineer Challenge\n",
    "### Procesamiento y análisis de datos de Twitter\n",
    "\n",
    "\n",
    "Este notebook tiene como objetivo resolver el desafío de ingeniería de datos para procesar un conjunto de datos de tweets y extraer información clave utilizando Python. Se implementan soluciones optimizadas para tiempo y memoria."
   ]
  },
  {
   "cell_type": "code",
   "execution_count": 2,
   "metadata": {},
   "outputs": [
    {
     "name": "stdout",
     "output_type": "stream",
     "text": [
      "Requirement already satisfied: memory-profiler==0.61.0 in c:\\users\\victor\\anaconda3\\lib\\site-packages (from -r ../requirements.txt (line 1)) (0.61.0)\n",
      "Requirement already satisfied: psutil in c:\\users\\victor\\appdata\\roaming\\python\\python312\\site-packages (from memory-profiler==0.61.0->-r ../requirements.txt (line 1)) (5.9.8)\n"
     ]
    }
   ],
   "source": [
    "!pip install -r ../requirements.txt"
   ]
  },
  {
   "cell_type": "code",
   "execution_count": 1,
   "metadata": {},
   "outputs": [],
   "source": [
    "#Librerias utiles para vizualizar la data y funciones a\n",
    "import pandas as pd\n",
    "import datetime\n",
    "from q1_time import q1_time\n",
    "from q1_memory import q1_memory\n",
    "from q2_time import q2_time\n",
    "from q2_memory import q2_memory\n",
    "from q3_time import q3_time\n",
    "from q3_memory import q3_memory\n",
    "import time\n",
    "\n",
    "#En caso de error al descargar alguna libreria restablecer el kernel o revisar el kernel correcto"
   ]
  },
  {
   "cell_type": "code",
   "execution_count": 2,
   "metadata": {},
   "outputs": [],
   "source": [
    "# Cargar el archivo de datos\n",
    "file_path = \"farmers-protest-tweets-2021-2-4.json\""
   ]
  },
  {
   "cell_type": "markdown",
   "metadata": {},
   "source": [
    "### -Se crea las funciones \"medir_tiempo()\" para calcular cuando dura el algoritmo en entregar el resultado.\n",
    "\n",
    "### -Se crea las funciones \"medir_memoria()\" para calcular cuando dura memoria ocupa el algoritmo."
   ]
  },
  {
   "cell_type": "code",
   "execution_count": 3,
   "metadata": {},
   "outputs": [],
   "source": [
    "from memory_profiler import memory_usage\n",
    "\n",
    "# Función para medir el tiempo de ejecución\n",
    "def medir_tiempo(func, *args):\n",
    "    inicio = time.time()\n",
    "    resultado = func(*args)\n",
    "    fin = time.time()\n",
    "    print(f\"Tiempo de ejecución: {fin - inicio} segundos\")\n",
    "    return resultado\n",
    "\n",
    "# Función para medir el uso de memoria\n",
    "def medir_memoria(func, *args):\n",
    "    memoria_inicial = memory_usage(-1, interval=0.1, timeout=1)\n",
    "    resultado = func(*args)\n",
    "    memoria_final = memory_usage(-1, interval=0.1, timeout=1)\n",
    "    print(f\"Memoria usada: {memoria_final[0] - memoria_inicial[0]} MiB\")\n",
    "    return resultado"
   ]
  },
  {
   "cell_type": "code",
   "execution_count": 4,
   "metadata": {},
   "outputs": [
    {
     "name": "stdout",
     "output_type": "stream",
     "text": [
      "                                                 url  \\\n",
      "0  https://twitter.com/ArjunSinghPanam/status/136...   \n",
      "1  https://twitter.com/PrdeepNain/status/13645062...   \n",
      "2  https://twitter.com/parmarmaninder/status/1364...   \n",
      "3  https://twitter.com/anmoldhaliwal/status/13645...   \n",
      "4  https://twitter.com/KotiaPreet/status/13645061...   \n",
      "5  https://twitter.com/babli_708/status/136450612...   \n",
      "6  https://twitter.com/Varinde17354019/status/136...   \n",
      "7  https://twitter.com/BitnamSingh/status/1364505...   \n",
      "8  https://twitter.com/anmoldhaliwal/status/13645...   \n",
      "9  https://twitter.com/SatThiara/status/136450589...   \n",
      "\n",
      "                       date  \\\n",
      "0 2021-02-24 09:23:35+00:00   \n",
      "1 2021-02-24 09:23:32+00:00   \n",
      "2 2021-02-24 09:23:22+00:00   \n",
      "3 2021-02-24 09:23:16+00:00   \n",
      "4 2021-02-24 09:23:10+00:00   \n",
      "5 2021-02-24 09:23:05+00:00   \n",
      "6 2021-02-24 09:22:54+00:00   \n",
      "7 2021-02-24 09:22:35+00:00   \n",
      "8 2021-02-24 09:22:34+00:00   \n",
      "9 2021-02-24 09:22:11+00:00   \n",
      "\n",
      "                                             content  \\\n",
      "0  The world progresses while the Indian police a...   \n",
      "1  #FarmersProtest \\n#ModiIgnoringFarmersDeaths \\...   \n",
      "2  ਪੈਟਰੋਲ ਦੀਆਂ ਕੀਮਤਾਂ ਨੂੰ ਮੱਦੇਨਜ਼ਰ ਰੱਖਦੇ ਹੋਏ \\nਮੇ...   \n",
      "3  @ReallySwara @rohini_sgh watch full video here...   \n",
      "4  #KisanEktaMorcha #FarmersProtest #NoFarmersNoF...   \n",
      "5  Jai jwaan jai kissan #FarmersProtest #ModiIgno...   \n",
      "6                                    #FarmersProtest   \n",
      "7  #ModiDontSellFarmers\\n#FarmersProtest https://...   \n",
      "8  @mandeeppunia1 watch full video here https://t...   \n",
      "9            #FarmersProtest https://t.co/ehd5FBSZGx   \n",
      "\n",
      "                                     renderedContent                   id  \\\n",
      "0  The world progresses while the Indian police a...  1364506249291784198   \n",
      "1  #FarmersProtest \\n#ModiIgnoringFarmersDeaths \\...  1364506237451313155   \n",
      "2  ਪੈਟਰੋਲ ਦੀਆਂ ਕੀਮਤਾਂ ਨੂੰ ਮੱਦੇਨਜ਼ਰ ਰੱਖਦੇ ਹੋਏ \\nਮੇ...  1364506195453767680   \n",
      "3  @ReallySwara @rohini_sgh watch full video here...  1364506167226032128   \n",
      "4  #KisanEktaMorcha #FarmersProtest #NoFarmersNoF...  1364506144002088963   \n",
      "5  Jai jwaan jai kissan #FarmersProtest #ModiIgno...  1364506120497360896   \n",
      "6                                    #FarmersProtest  1364506076272496640   \n",
      "7  #ModiDontSellFarmers\\n#FarmersProtest twitter....  1364505995859423234   \n",
      "8  @mandeeppunia1 watch full video here youtu.be/...  1364505991887347714   \n",
      "9        #FarmersProtest twitter.com/borisjohnson/s…  1364505896576053248   \n",
      "\n",
      "                                                user  \\\n",
      "0  {'username': 'ArjunSinghPanam', 'displayname':...   \n",
      "1  {'username': 'PrdeepNain', 'displayname': 'Pra...   \n",
      "2  {'username': 'parmarmaninder', 'displayname': ...   \n",
      "3  {'username': 'anmoldhaliwal', 'displayname': '...   \n",
      "4  {'username': 'KotiaPreet', 'displayname': 'Pre...   \n",
      "5  {'username': 'babli_708', 'displayname': 'Babl...   \n",
      "6  {'username': 'Varinde17354019', 'displayname':...   \n",
      "7  {'username': 'BitnamSingh', 'displayname': 'Bi...   \n",
      "8  {'username': 'anmoldhaliwal', 'displayname': '...   \n",
      "9  {'username': 'SatThiara', 'displayname': 'Sat ...   \n",
      "\n",
      "                                            outlinks  \\\n",
      "0  [https://twitter.com/ravisinghka/status/136415...   \n",
      "1                                                 []   \n",
      "2                                                 []   \n",
      "3                     [https://youtu.be/-bUKumwq-J8]   \n",
      "4                                                 []   \n",
      "5  [https://twitter.com/rajeshpunia15/status/1364...   \n",
      "6                                                 []   \n",
      "7  [https://twitter.com/jagjitvaheguru/status/136...   \n",
      "8                     [https://youtu.be/-bUKumwq-J8]   \n",
      "9  [https://twitter.com/borisjohnson/status/13642...   \n",
      "\n",
      "                 tcooutlinks  replyCount  retweetCount  ...  quoteCount  \\\n",
      "0  [https://t.co/es3kn0IQAF]           0             0  ...           0   \n",
      "1                         []           0             0  ...           0   \n",
      "2                         []           0             0  ...           0   \n",
      "3  [https://t.co/wBPNdJdB0n]           0             0  ...           0   \n",
      "4                         []           0             0  ...           0   \n",
      "5  [https://t.co/LXi7d92wwf]           0             0  ...           0   \n",
      "6                         []           0             0  ...           0   \n",
      "7  [https://t.co/uGQb1O5Jg9]           0             0  ...           0   \n",
      "8  [https://t.co/wBPNdJdB0n]           0             0  ...           0   \n",
      "9  [https://t.co/ehd5FBSZGx]           0             0  ...           0   \n",
      "\n",
      "        conversationId  lang  \\\n",
      "0  1364506249291784198    en   \n",
      "1  1364506237451313155    en   \n",
      "2  1364506195453767680    pa   \n",
      "3  1364350947099484160    en   \n",
      "4  1364506144002088963   und   \n",
      "5  1364506120497360896    hi   \n",
      "6  1364506076272496640   und   \n",
      "7  1364505995859423234   und   \n",
      "8  1364428985074032646    en   \n",
      "9  1364505896576053248   und   \n",
      "\n",
      "                                              source  \\\n",
      "0  <a href=\"http://twitter.com/download/iphone\" r...   \n",
      "1  <a href=\"http://twitter.com/download/android\" ...   \n",
      "2  <a href=\"http://twitter.com/download/android\" ...   \n",
      "3  <a href=\"https://mobile.twitter.com\" rel=\"nofo...   \n",
      "4  <a href=\"http://twitter.com/download/iphone\" r...   \n",
      "5  <a href=\"http://twitter.com/download/iphone\" r...   \n",
      "6  <a href=\"http://twitter.com/download/android\" ...   \n",
      "7  <a href=\"https://mobile.twitter.com\" rel=\"nofo...   \n",
      "8  <a href=\"https://mobile.twitter.com\" rel=\"nofo...   \n",
      "9  <a href=\"http://twitter.com/download/iphone\" r...   \n",
      "\n",
      "                             sourceUrl          sourceLabel  \\\n",
      "0   http://twitter.com/download/iphone   Twitter for iPhone   \n",
      "1  http://twitter.com/download/android  Twitter for Android   \n",
      "2  http://twitter.com/download/android  Twitter for Android   \n",
      "3           https://mobile.twitter.com      Twitter Web App   \n",
      "4   http://twitter.com/download/iphone   Twitter for iPhone   \n",
      "5   http://twitter.com/download/iphone   Twitter for iPhone   \n",
      "6  http://twitter.com/download/android  Twitter for Android   \n",
      "7           https://mobile.twitter.com      Twitter Web App   \n",
      "8           https://mobile.twitter.com      Twitter Web App   \n",
      "9   http://twitter.com/download/iphone   Twitter for iPhone   \n",
      "\n",
      "                                               media retweetedTweet  \\\n",
      "0                                               None            NaN   \n",
      "1  [{'thumbnailUrl': 'https://pbs.twimg.com/ext_t...            NaN   \n",
      "2                                               None            NaN   \n",
      "3  [{'thumbnailUrl': 'https://pbs.twimg.com/ext_t...            NaN   \n",
      "4  [{'previewUrl': 'https://pbs.twimg.com/media/E...            NaN   \n",
      "5                                               None            NaN   \n",
      "6                                               None            NaN   \n",
      "7                                               None            NaN   \n",
      "8  [{'thumbnailUrl': 'https://pbs.twimg.com/ext_t...            NaN   \n",
      "9                                               None            NaN   \n",
      "\n",
      "                                         quotedTweet  \\\n",
      "0  {'url': 'https://twitter.com/RaviSinghKA/statu...   \n",
      "1                                               None   \n",
      "2                                               None   \n",
      "3                                               None   \n",
      "4                                               None   \n",
      "5  {'url': 'https://twitter.com/RajeshPunia15/sta...   \n",
      "6                                               None   \n",
      "7  {'url': 'https://twitter.com/jagjitvaheguru/st...   \n",
      "8                                               None   \n",
      "9  {'url': 'https://twitter.com/BorisJohnson/stat...   \n",
      "\n",
      "                                      mentionedUsers  \n",
      "0  [{'username': 'narendramodi', 'displayname': '...  \n",
      "1  [{'username': 'Kisanektamorcha', 'displayname'...  \n",
      "2                                               None  \n",
      "3  [{'username': 'ReallySwara', 'displayname': 'S...  \n",
      "4                                               None  \n",
      "5                                               None  \n",
      "6                                               None  \n",
      "7                                               None  \n",
      "8  [{'username': 'mandeeppunia1', 'displayname': ...  \n",
      "9                                               None  \n",
      "\n",
      "[10 rows x 21 columns]\n"
     ]
    }
   ],
   "source": [
    "import pandas as pd\n",
    "\n",
    "# Abrir el archivo JSON en modo de lectura de líneas\n",
    "with pd.read_json(file_path, lines=True, chunksize=10) as reader:\n",
    "    for chunk in reader:\n",
    "        # Mostrar solo las primeras 10 líneas\n",
    "        print(chunk.head(10))\n",
    "        break  # Para detener el streaming después de leer las primeras 10 líneas"
   ]
  },
  {
   "cell_type": "markdown",
   "metadata": {},
   "source": [
    "5. Demostración de Funciones\n",
    "A continuación, crea una sección para ejecutar cada una de las funciones que has desarrollado, utilizando las funciones para medir el tiempo y la memoria.\n",
    "\n",
    "a) Q1: Fechas con más tweets y usuario más activo"
   ]
  },
  {
   "cell_type": "markdown",
   "metadata": {},
   "source": []
  },
  {
   "cell_type": "code",
   "execution_count": 5,
   "metadata": {},
   "outputs": [
    {
     "name": "stdout",
     "output_type": "stream",
     "text": [
      "Q1 - Optimización en tiempo\n",
      "Tiempo de ejecución: 11.129716873168945 segundos\n",
      "{datetime.date(2021, 2, 12): {'count': 12347, 'top_user': 'RanbirS00614606'}, datetime.date(2021, 2, 13): {'count': 11296, 'top_user': 'MaanDee08215437'}, datetime.date(2021, 2, 17): {'count': 11087, 'top_user': 'RaaJVinderkaur'}, datetime.date(2021, 2, 16): {'count': 10443, 'top_user': 'jot__b'}, datetime.date(2021, 2, 14): {'count': 10249, 'top_user': 'rebelpacifist'}, datetime.date(2021, 2, 18): {'count': 9625, 'top_user': 'neetuanjle_nitu'}, datetime.date(2021, 2, 15): {'count': 9197, 'top_user': 'jot__b'}, datetime.date(2021, 2, 20): {'count': 8502, 'top_user': 'MangalJ23056160'}, datetime.date(2021, 2, 23): {'count': 8417, 'top_user': 'Surrypuria'}, datetime.date(2021, 2, 19): {'count': 8204, 'top_user': 'Preetm91'}}\n",
      "Q1 - Optimización en tiempo\n",
      "Memoria usada: 13.23046875 MiB\n",
      "{datetime.date(2021, 2, 12): {'count': 12347, 'top_user': 'RanbirS00614606'}, datetime.date(2021, 2, 13): {'count': 11296, 'top_user': 'MaanDee08215437'}, datetime.date(2021, 2, 17): {'count': 11087, 'top_user': 'RaaJVinderkaur'}, datetime.date(2021, 2, 16): {'count': 10443, 'top_user': 'jot__b'}, datetime.date(2021, 2, 14): {'count': 10249, 'top_user': 'rebelpacifist'}, datetime.date(2021, 2, 18): {'count': 9625, 'top_user': 'neetuanjle_nitu'}, datetime.date(2021, 2, 15): {'count': 9197, 'top_user': 'jot__b'}, datetime.date(2021, 2, 20): {'count': 8502, 'top_user': 'MangalJ23056160'}, datetime.date(2021, 2, 23): {'count': 8417, 'top_user': 'Surrypuria'}, datetime.date(2021, 2, 19): {'count': 8204, 'top_user': 'Preetm91'}}\n"
     ]
    }
   ],
   "source": [
    "print(\"Q1 - Optimización en tiempo\")\n",
    "q1_time_result = medir_tiempo(q1_time, file_path)\n",
    "print(q1_time_result)\n",
    "\n",
    "print(\"Q1 - Optimización en tiempo\")\n",
    "q1_time_result = medir_memoria(q1_time, file_path)\n",
    "print(q1_time_result)"
   ]
  },
  {
   "cell_type": "code",
   "execution_count": 6,
   "metadata": {},
   "outputs": [
    {
     "name": "stdout",
     "output_type": "stream",
     "text": [
      "Q1 - Optimización en memoria\n",
      "Tiempo de ejecución: 12.088460445404053 segundos\n",
      "[(datetime.date(2021, 2, 12), 'RanbirS00614606'), (datetime.date(2021, 2, 13), 'MaanDee08215437'), (datetime.date(2021, 2, 17), 'RaaJVinderkaur'), (datetime.date(2021, 2, 16), 'jot__b'), (datetime.date(2021, 2, 14), 'rebelpacifist'), (datetime.date(2021, 2, 18), 'neetuanjle_nitu'), (datetime.date(2021, 2, 15), 'jot__b'), (datetime.date(2021, 2, 20), 'MangalJ23056160'), (datetime.date(2021, 2, 23), 'Surrypuria'), (datetime.date(2021, 2, 19), 'Preetm91')]\n",
      "Q1 - Optimización en memoria\n",
      "Memoria usada: -0.79296875 MiB\n",
      "[(datetime.date(2021, 2, 12), 'RanbirS00614606'), (datetime.date(2021, 2, 13), 'MaanDee08215437'), (datetime.date(2021, 2, 17), 'RaaJVinderkaur'), (datetime.date(2021, 2, 16), 'jot__b'), (datetime.date(2021, 2, 14), 'rebelpacifist'), (datetime.date(2021, 2, 18), 'neetuanjle_nitu'), (datetime.date(2021, 2, 15), 'jot__b'), (datetime.date(2021, 2, 20), 'MangalJ23056160'), (datetime.date(2021, 2, 23), 'Surrypuria'), (datetime.date(2021, 2, 19), 'Preetm91')]\n"
     ]
    }
   ],
   "source": [
    "print(\"Q1 - Optimización en memoria\")\n",
    "q1_time_result = medir_tiempo(q1_memory, file_path)\n",
    "print(q1_time_result)\n",
    "\n",
    "print(\"Q1 - Optimización en memoria\")\n",
    "q1_time_result = medir_memoria(q1_memory, file_path)\n",
    "print(q1_time_result)"
   ]
  },
  {
   "cell_type": "code",
   "execution_count": 6,
   "metadata": {},
   "outputs": [
    {
     "name": "stdout",
     "output_type": "stream",
     "text": [
      "Q1 - Optimización en memoria\n"
     ]
    },
    {
     "ename": "KeyError",
     "evalue": "'created_at'",
     "output_type": "error",
     "traceback": [
      "\u001b[1;31m---------------------------------------------------------------------------\u001b[0m",
      "\u001b[1;31mKeyError\u001b[0m                                  Traceback (most recent call last)",
      "Cell \u001b[1;32mIn[6], line 2\u001b[0m\n\u001b[0;32m      1\u001b[0m \u001b[38;5;28mprint\u001b[39m(\u001b[38;5;124m\"\u001b[39m\u001b[38;5;124mQ1 - Optimización en memoria\u001b[39m\u001b[38;5;124m\"\u001b[39m)\n\u001b[1;32m----> 2\u001b[0m q1_memory_result \u001b[38;5;241m=\u001b[39m medir_memoria(q1_memory, file_path)\n\u001b[0;32m      3\u001b[0m \u001b[38;5;28mprint\u001b[39m(q1_memory_result)\n",
      "Cell \u001b[1;32mIn[2], line 14\u001b[0m, in \u001b[0;36mmedir_memoria\u001b[1;34m(func, *args)\u001b[0m\n\u001b[0;32m     12\u001b[0m \u001b[38;5;28;01mdef\u001b[39;00m \u001b[38;5;21mmedir_memoria\u001b[39m(func, \u001b[38;5;241m*\u001b[39margs):\n\u001b[0;32m     13\u001b[0m     memoria_inicial \u001b[38;5;241m=\u001b[39m memory_usage(\u001b[38;5;241m-\u001b[39m\u001b[38;5;241m1\u001b[39m, interval\u001b[38;5;241m=\u001b[39m\u001b[38;5;241m0.1\u001b[39m, timeout\u001b[38;5;241m=\u001b[39m\u001b[38;5;241m1\u001b[39m)\n\u001b[1;32m---> 14\u001b[0m     resultado \u001b[38;5;241m=\u001b[39m func(\u001b[38;5;241m*\u001b[39margs)\n\u001b[0;32m     15\u001b[0m     memoria_final \u001b[38;5;241m=\u001b[39m memory_usage(\u001b[38;5;241m-\u001b[39m\u001b[38;5;241m1\u001b[39m, interval\u001b[38;5;241m=\u001b[39m\u001b[38;5;241m0.1\u001b[39m, timeout\u001b[38;5;241m=\u001b[39m\u001b[38;5;241m1\u001b[39m)\n\u001b[0;32m     16\u001b[0m     \u001b[38;5;28mprint\u001b[39m(\u001b[38;5;124mf\u001b[39m\u001b[38;5;124m\"\u001b[39m\u001b[38;5;124mMemoria usada: \u001b[39m\u001b[38;5;132;01m{\u001b[39;00mmemoria_final[\u001b[38;5;241m0\u001b[39m]\u001b[38;5;250m \u001b[39m\u001b[38;5;241m-\u001b[39m\u001b[38;5;250m \u001b[39mmemoria_inicial[\u001b[38;5;241m0\u001b[39m]\u001b[38;5;132;01m}\u001b[39;00m\u001b[38;5;124m MiB\u001b[39m\u001b[38;5;124m\"\u001b[39m)\n",
      "File \u001b[1;32mc:\\Users\\Victor\\Desktop\\latam\\latam-challenge\\src\\q1_memory.py:30\u001b[0m, in \u001b[0;36mq1_memory\u001b[1;34m(file_path)\u001b[0m\n\u001b[0;32m     28\u001b[0m \u001b[38;5;28;01mfor\u001b[39;00m line \u001b[38;5;129;01min\u001b[39;00m file:\n\u001b[0;32m     29\u001b[0m     tweet \u001b[38;5;241m=\u001b[39m json\u001b[38;5;241m.\u001b[39mloads(line)\n\u001b[1;32m---> 30\u001b[0m     date \u001b[38;5;241m=\u001b[39m datetime\u001b[38;5;241m.\u001b[39mstrptime(tweet[\u001b[38;5;124m'\u001b[39m\u001b[38;5;124mcreated_at\u001b[39m\u001b[38;5;124m'\u001b[39m], \u001b[38;5;124m\"\u001b[39m\u001b[38;5;124m%\u001b[39m\u001b[38;5;124mY-\u001b[39m\u001b[38;5;124m%\u001b[39m\u001b[38;5;124mm-\u001b[39m\u001b[38;5;132;01m%d\u001b[39;00m\u001b[38;5;124m\"\u001b[39m)\u001b[38;5;241m.\u001b[39mdate()\n\u001b[0;32m     31\u001b[0m     user \u001b[38;5;241m=\u001b[39m tweet[\u001b[38;5;124m'\u001b[39m\u001b[38;5;124muser\u001b[39m\u001b[38;5;124m'\u001b[39m][\u001b[38;5;124m'\u001b[39m\u001b[38;5;124mscreen_name\u001b[39m\u001b[38;5;124m'\u001b[39m]\n\u001b[0;32m     33\u001b[0m     date_counter[date] \u001b[38;5;241m+\u001b[39m\u001b[38;5;241m=\u001b[39m \u001b[38;5;241m1\u001b[39m\n",
      "\u001b[1;31mKeyError\u001b[0m: 'created_at'"
     ]
    }
   ],
   "source": [
    "print(\"Q1 - Optimización en memoria\")\n",
    "q1_memory_result = medir_memoria(q1_memory, file_path)\n",
    "print(q1_memory_result)"
   ]
  },
  {
   "cell_type": "markdown",
   "metadata": {},
   "source": [
    "b) Q2: Top 10 emojis más usados\n",
    "Optimización de tiempo:"
   ]
  },
  {
   "cell_type": "code",
   "execution_count": 7,
   "metadata": {},
   "outputs": [
    {
     "name": "stdout",
     "output_type": "stream",
     "text": [
      "Q2 - Optimización en tiempo\n"
     ]
    },
    {
     "ename": "JSONDecodeError",
     "evalue": "Extra data: line 2 column 1 (char 6302)",
     "output_type": "error",
     "traceback": [
      "\u001b[1;31m---------------------------------------------------------------------------\u001b[0m",
      "\u001b[1;31mJSONDecodeError\u001b[0m                           Traceback (most recent call last)",
      "Cell \u001b[1;32mIn[7], line 2\u001b[0m\n\u001b[0;32m      1\u001b[0m \u001b[38;5;28mprint\u001b[39m(\u001b[38;5;124m\"\u001b[39m\u001b[38;5;124mQ2 - Optimización en tiempo\u001b[39m\u001b[38;5;124m\"\u001b[39m)\n\u001b[1;32m----> 2\u001b[0m q2_time_result \u001b[38;5;241m=\u001b[39m medir_tiempo(q2_time, file_path)\n\u001b[0;32m      3\u001b[0m \u001b[38;5;28mprint\u001b[39m(q2_time_result)\n",
      "Cell \u001b[1;32mIn[2], line 6\u001b[0m, in \u001b[0;36mmedir_tiempo\u001b[1;34m(func, *args)\u001b[0m\n\u001b[0;32m      4\u001b[0m \u001b[38;5;28;01mdef\u001b[39;00m \u001b[38;5;21mmedir_tiempo\u001b[39m(func, \u001b[38;5;241m*\u001b[39margs):\n\u001b[0;32m      5\u001b[0m     inicio \u001b[38;5;241m=\u001b[39m time\u001b[38;5;241m.\u001b[39mtime()\n\u001b[1;32m----> 6\u001b[0m     resultado \u001b[38;5;241m=\u001b[39m func(\u001b[38;5;241m*\u001b[39margs)\n\u001b[0;32m      7\u001b[0m     fin \u001b[38;5;241m=\u001b[39m time\u001b[38;5;241m.\u001b[39mtime()\n\u001b[0;32m      8\u001b[0m     \u001b[38;5;28mprint\u001b[39m(\u001b[38;5;124mf\u001b[39m\u001b[38;5;124m\"\u001b[39m\u001b[38;5;124mTiempo de ejecución: \u001b[39m\u001b[38;5;132;01m{\u001b[39;00mfin\u001b[38;5;250m \u001b[39m\u001b[38;5;241m-\u001b[39m\u001b[38;5;250m \u001b[39minicio\u001b[38;5;132;01m}\u001b[39;00m\u001b[38;5;124m segundos\u001b[39m\u001b[38;5;124m\"\u001b[39m)\n",
      "File \u001b[1;32mc:\\Users\\Victor\\Desktop\\latam\\latam-challenge\\src\\q2_time.py:24\u001b[0m, in \u001b[0;36mq2_time\u001b[1;34m(file_path)\u001b[0m\n\u001b[0;32m      8\u001b[0m \u001b[38;5;250m\u001b[39m\u001b[38;5;124;03m\"\"\"\u001b[39;00m\n\u001b[0;32m      9\u001b[0m \u001b[38;5;124;03mFunción que obtiene los 10 emojis más usados en los tweets, optimizada para tiempo de ejecución.\u001b[39;00m\n\u001b[0;32m     10\u001b[0m \u001b[38;5;124;03m\u001b[39;00m\n\u001b[1;32m   (...)\u001b[0m\n\u001b[0;32m     21\u001b[0m \u001b[38;5;124;03m- El archivo puede cargarse completamente en memoria.\u001b[39;00m\n\u001b[0;32m     22\u001b[0m \u001b[38;5;124;03m\"\"\"\u001b[39;00m\n\u001b[0;32m     23\u001b[0m \u001b[38;5;66;03m# Cargar los datos completos\u001b[39;00m\n\u001b[1;32m---> 24\u001b[0m data \u001b[38;5;241m=\u001b[39m load_data(file_path)\n\u001b[0;32m     26\u001b[0m \u001b[38;5;66;03m# Inicializamos un contador para los emojis\u001b[39;00m\n\u001b[0;32m     27\u001b[0m emoji_counter \u001b[38;5;241m=\u001b[39m Counter()\n",
      "File \u001b[1;32mc:\\Users\\Victor\\Desktop\\latam\\latam-challenge\\src\\utils.py:17\u001b[0m, in \u001b[0;36mload_data\u001b[1;34m(file_path)\u001b[0m\n\u001b[0;32m      4\u001b[0m \u001b[38;5;250m\u001b[39m\u001b[38;5;124;03m\"\"\"\u001b[39;00m\n\u001b[0;32m      5\u001b[0m \u001b[38;5;124;03mCarga y procesa datos desde un archivo JSON.\u001b[39;00m\n\u001b[0;32m      6\u001b[0m \u001b[38;5;124;03m\u001b[39;00m\n\u001b[1;32m   (...)\u001b[0m\n\u001b[0;32m     14\u001b[0m \u001b[38;5;124;03m- Este archivo debe ser usado por todas las funciones de procesamiento que necesiten cargar datos JSON.\u001b[39;00m\n\u001b[0;32m     15\u001b[0m \u001b[38;5;124;03m\"\"\"\u001b[39;00m\n\u001b[0;32m     16\u001b[0m \u001b[38;5;28;01mwith\u001b[39;00m \u001b[38;5;28mopen\u001b[39m(file_path, \u001b[38;5;124m'\u001b[39m\u001b[38;5;124mr\u001b[39m\u001b[38;5;124m'\u001b[39m) \u001b[38;5;28;01mas\u001b[39;00m file:\n\u001b[1;32m---> 17\u001b[0m     data \u001b[38;5;241m=\u001b[39m json\u001b[38;5;241m.\u001b[39mload(file)\n\u001b[0;32m     18\u001b[0m \u001b[38;5;28;01mreturn\u001b[39;00m data\n",
      "File \u001b[1;32mc:\\Users\\Victor\\anaconda3\\Lib\\json\\__init__.py:293\u001b[0m, in \u001b[0;36mload\u001b[1;34m(fp, cls, object_hook, parse_float, parse_int, parse_constant, object_pairs_hook, **kw)\u001b[0m\n\u001b[0;32m    274\u001b[0m \u001b[38;5;28;01mdef\u001b[39;00m \u001b[38;5;21mload\u001b[39m(fp, \u001b[38;5;241m*\u001b[39m, \u001b[38;5;28mcls\u001b[39m\u001b[38;5;241m=\u001b[39m\u001b[38;5;28;01mNone\u001b[39;00m, object_hook\u001b[38;5;241m=\u001b[39m\u001b[38;5;28;01mNone\u001b[39;00m, parse_float\u001b[38;5;241m=\u001b[39m\u001b[38;5;28;01mNone\u001b[39;00m,\n\u001b[0;32m    275\u001b[0m         parse_int\u001b[38;5;241m=\u001b[39m\u001b[38;5;28;01mNone\u001b[39;00m, parse_constant\u001b[38;5;241m=\u001b[39m\u001b[38;5;28;01mNone\u001b[39;00m, object_pairs_hook\u001b[38;5;241m=\u001b[39m\u001b[38;5;28;01mNone\u001b[39;00m, \u001b[38;5;241m*\u001b[39m\u001b[38;5;241m*\u001b[39mkw):\n\u001b[0;32m    276\u001b[0m \u001b[38;5;250m    \u001b[39m\u001b[38;5;124;03m\"\"\"Deserialize ``fp`` (a ``.read()``-supporting file-like object containing\u001b[39;00m\n\u001b[0;32m    277\u001b[0m \u001b[38;5;124;03m    a JSON document) to a Python object.\u001b[39;00m\n\u001b[0;32m    278\u001b[0m \n\u001b[1;32m   (...)\u001b[0m\n\u001b[0;32m    291\u001b[0m \u001b[38;5;124;03m    kwarg; otherwise ``JSONDecoder`` is used.\u001b[39;00m\n\u001b[0;32m    292\u001b[0m \u001b[38;5;124;03m    \"\"\"\u001b[39;00m\n\u001b[1;32m--> 293\u001b[0m     \u001b[38;5;28;01mreturn\u001b[39;00m loads(fp\u001b[38;5;241m.\u001b[39mread(),\n\u001b[0;32m    294\u001b[0m         \u001b[38;5;28mcls\u001b[39m\u001b[38;5;241m=\u001b[39m\u001b[38;5;28mcls\u001b[39m, object_hook\u001b[38;5;241m=\u001b[39mobject_hook,\n\u001b[0;32m    295\u001b[0m         parse_float\u001b[38;5;241m=\u001b[39mparse_float, parse_int\u001b[38;5;241m=\u001b[39mparse_int,\n\u001b[0;32m    296\u001b[0m         parse_constant\u001b[38;5;241m=\u001b[39mparse_constant, object_pairs_hook\u001b[38;5;241m=\u001b[39mobject_pairs_hook, \u001b[38;5;241m*\u001b[39m\u001b[38;5;241m*\u001b[39mkw)\n",
      "File \u001b[1;32mc:\\Users\\Victor\\anaconda3\\Lib\\json\\__init__.py:346\u001b[0m, in \u001b[0;36mloads\u001b[1;34m(s, cls, object_hook, parse_float, parse_int, parse_constant, object_pairs_hook, **kw)\u001b[0m\n\u001b[0;32m    341\u001b[0m     s \u001b[38;5;241m=\u001b[39m s\u001b[38;5;241m.\u001b[39mdecode(detect_encoding(s), \u001b[38;5;124m'\u001b[39m\u001b[38;5;124msurrogatepass\u001b[39m\u001b[38;5;124m'\u001b[39m)\n\u001b[0;32m    343\u001b[0m \u001b[38;5;28;01mif\u001b[39;00m (\u001b[38;5;28mcls\u001b[39m \u001b[38;5;129;01mis\u001b[39;00m \u001b[38;5;28;01mNone\u001b[39;00m \u001b[38;5;129;01mand\u001b[39;00m object_hook \u001b[38;5;129;01mis\u001b[39;00m \u001b[38;5;28;01mNone\u001b[39;00m \u001b[38;5;129;01mand\u001b[39;00m\n\u001b[0;32m    344\u001b[0m         parse_int \u001b[38;5;129;01mis\u001b[39;00m \u001b[38;5;28;01mNone\u001b[39;00m \u001b[38;5;129;01mand\u001b[39;00m parse_float \u001b[38;5;129;01mis\u001b[39;00m \u001b[38;5;28;01mNone\u001b[39;00m \u001b[38;5;129;01mand\u001b[39;00m\n\u001b[0;32m    345\u001b[0m         parse_constant \u001b[38;5;129;01mis\u001b[39;00m \u001b[38;5;28;01mNone\u001b[39;00m \u001b[38;5;129;01mand\u001b[39;00m object_pairs_hook \u001b[38;5;129;01mis\u001b[39;00m \u001b[38;5;28;01mNone\u001b[39;00m \u001b[38;5;129;01mand\u001b[39;00m \u001b[38;5;129;01mnot\u001b[39;00m kw):\n\u001b[1;32m--> 346\u001b[0m     \u001b[38;5;28;01mreturn\u001b[39;00m _default_decoder\u001b[38;5;241m.\u001b[39mdecode(s)\n\u001b[0;32m    347\u001b[0m \u001b[38;5;28;01mif\u001b[39;00m \u001b[38;5;28mcls\u001b[39m \u001b[38;5;129;01mis\u001b[39;00m \u001b[38;5;28;01mNone\u001b[39;00m:\n\u001b[0;32m    348\u001b[0m     \u001b[38;5;28mcls\u001b[39m \u001b[38;5;241m=\u001b[39m JSONDecoder\n",
      "File \u001b[1;32mc:\\Users\\Victor\\anaconda3\\Lib\\json\\decoder.py:340\u001b[0m, in \u001b[0;36mJSONDecoder.decode\u001b[1;34m(self, s, _w)\u001b[0m\n\u001b[0;32m    338\u001b[0m end \u001b[38;5;241m=\u001b[39m _w(s, end)\u001b[38;5;241m.\u001b[39mend()\n\u001b[0;32m    339\u001b[0m \u001b[38;5;28;01mif\u001b[39;00m end \u001b[38;5;241m!=\u001b[39m \u001b[38;5;28mlen\u001b[39m(s):\n\u001b[1;32m--> 340\u001b[0m     \u001b[38;5;28;01mraise\u001b[39;00m JSONDecodeError(\u001b[38;5;124m\"\u001b[39m\u001b[38;5;124mExtra data\u001b[39m\u001b[38;5;124m\"\u001b[39m, s, end)\n\u001b[0;32m    341\u001b[0m \u001b[38;5;28;01mreturn\u001b[39;00m obj\n",
      "\u001b[1;31mJSONDecodeError\u001b[0m: Extra data: line 2 column 1 (char 6302)"
     ]
    }
   ],
   "source": []
  },
  {
   "cell_type": "code",
   "execution_count": 8,
   "metadata": {},
   "outputs": [
    {
     "name": "stdout",
     "output_type": "stream",
     "text": [
      "Q2 - Optimización en memoria\n"
     ]
    },
    {
     "ename": "KeyError",
     "evalue": "'text'",
     "output_type": "error",
     "traceback": [
      "\u001b[1;31m---------------------------------------------------------------------------\u001b[0m",
      "\u001b[1;31mKeyError\u001b[0m                                  Traceback (most recent call last)",
      "Cell \u001b[1;32mIn[8], line 2\u001b[0m\n\u001b[0;32m      1\u001b[0m \u001b[38;5;28mprint\u001b[39m(\u001b[38;5;124m\"\u001b[39m\u001b[38;5;124mQ2 - Optimización en memoria\u001b[39m\u001b[38;5;124m\"\u001b[39m)\n\u001b[1;32m----> 2\u001b[0m q2_memory_result \u001b[38;5;241m=\u001b[39m medir_memoria(q2_memory, file_path)\n\u001b[0;32m      3\u001b[0m \u001b[38;5;28mprint\u001b[39m(q2_memory_result)\n",
      "Cell \u001b[1;32mIn[2], line 14\u001b[0m, in \u001b[0;36mmedir_memoria\u001b[1;34m(func, *args)\u001b[0m\n\u001b[0;32m     12\u001b[0m \u001b[38;5;28;01mdef\u001b[39;00m \u001b[38;5;21mmedir_memoria\u001b[39m(func, \u001b[38;5;241m*\u001b[39margs):\n\u001b[0;32m     13\u001b[0m     memoria_inicial \u001b[38;5;241m=\u001b[39m memory_usage(\u001b[38;5;241m-\u001b[39m\u001b[38;5;241m1\u001b[39m, interval\u001b[38;5;241m=\u001b[39m\u001b[38;5;241m0.1\u001b[39m, timeout\u001b[38;5;241m=\u001b[39m\u001b[38;5;241m1\u001b[39m)\n\u001b[1;32m---> 14\u001b[0m     resultado \u001b[38;5;241m=\u001b[39m func(\u001b[38;5;241m*\u001b[39margs)\n\u001b[0;32m     15\u001b[0m     memoria_final \u001b[38;5;241m=\u001b[39m memory_usage(\u001b[38;5;241m-\u001b[39m\u001b[38;5;241m1\u001b[39m, interval\u001b[38;5;241m=\u001b[39m\u001b[38;5;241m0.1\u001b[39m, timeout\u001b[38;5;241m=\u001b[39m\u001b[38;5;241m1\u001b[39m)\n\u001b[0;32m     16\u001b[0m     \u001b[38;5;28mprint\u001b[39m(\u001b[38;5;124mf\u001b[39m\u001b[38;5;124m\"\u001b[39m\u001b[38;5;124mMemoria usada: \u001b[39m\u001b[38;5;132;01m{\u001b[39;00mmemoria_final[\u001b[38;5;241m0\u001b[39m]\u001b[38;5;250m \u001b[39m\u001b[38;5;241m-\u001b[39m\u001b[38;5;250m \u001b[39mmemoria_inicial[\u001b[38;5;241m0\u001b[39m]\u001b[38;5;132;01m}\u001b[39;00m\u001b[38;5;124m MiB\u001b[39m\u001b[38;5;124m\"\u001b[39m)\n",
      "File \u001b[1;32mc:\\Users\\Victor\\Desktop\\latam\\latam-challenge\\src\\q2_memory.py:18\u001b[0m, in \u001b[0;36mq2_memory\u001b[1;34m(file_path)\u001b[0m\n\u001b[0;32m     16\u001b[0m     \u001b[38;5;28;01mfor\u001b[39;00m line \u001b[38;5;129;01min\u001b[39;00m file:\n\u001b[0;32m     17\u001b[0m         tweet \u001b[38;5;241m=\u001b[39m json\u001b[38;5;241m.\u001b[39mloads(line)\n\u001b[1;32m---> 18\u001b[0m         emojis \u001b[38;5;241m=\u001b[39m emoji_pattern\u001b[38;5;241m.\u001b[39mfindall(tweet[\u001b[38;5;124m'\u001b[39m\u001b[38;5;124mtext\u001b[39m\u001b[38;5;124m'\u001b[39m])\n\u001b[0;32m     19\u001b[0m         emoji_counter\u001b[38;5;241m.\u001b[39mupdate(emojis)\n\u001b[0;32m     21\u001b[0m \u001b[38;5;66;03m# Obtener los 10 emojis más comunes\u001b[39;00m\n",
      "\u001b[1;31mKeyError\u001b[0m: 'text'"
     ]
    }
   ],
   "source": []
  },
  {
   "cell_type": "markdown",
   "metadata": {},
   "source": [
    "c) Q3: Usuarios más influyentes\n",
    "Optimización de tiempo"
   ]
  },
  {
   "cell_type": "code",
   "execution_count": 9,
   "metadata": {},
   "outputs": [
    {
     "name": "stdout",
     "output_type": "stream",
     "text": [
      "Q3 - Optimización en tiempo\n"
     ]
    },
    {
     "ename": "JSONDecodeError",
     "evalue": "Extra data: line 2 column 1 (char 6302)",
     "output_type": "error",
     "traceback": [
      "\u001b[1;31m---------------------------------------------------------------------------\u001b[0m",
      "\u001b[1;31mJSONDecodeError\u001b[0m                           Traceback (most recent call last)",
      "Cell \u001b[1;32mIn[9], line 2\u001b[0m\n\u001b[0;32m      1\u001b[0m \u001b[38;5;28mprint\u001b[39m(\u001b[38;5;124m\"\u001b[39m\u001b[38;5;124mQ3 - Optimización en tiempo\u001b[39m\u001b[38;5;124m\"\u001b[39m)\n\u001b[1;32m----> 2\u001b[0m q3_time_result \u001b[38;5;241m=\u001b[39m medir_tiempo(q3_time, file_path)\n\u001b[0;32m      3\u001b[0m \u001b[38;5;28mprint\u001b[39m(q3_time_result)\n",
      "Cell \u001b[1;32mIn[2], line 6\u001b[0m, in \u001b[0;36mmedir_tiempo\u001b[1;34m(func, *args)\u001b[0m\n\u001b[0;32m      4\u001b[0m \u001b[38;5;28;01mdef\u001b[39;00m \u001b[38;5;21mmedir_tiempo\u001b[39m(func, \u001b[38;5;241m*\u001b[39margs):\n\u001b[0;32m      5\u001b[0m     inicio \u001b[38;5;241m=\u001b[39m time\u001b[38;5;241m.\u001b[39mtime()\n\u001b[1;32m----> 6\u001b[0m     resultado \u001b[38;5;241m=\u001b[39m func(\u001b[38;5;241m*\u001b[39margs)\n\u001b[0;32m      7\u001b[0m     fin \u001b[38;5;241m=\u001b[39m time\u001b[38;5;241m.\u001b[39mtime()\n\u001b[0;32m      8\u001b[0m     \u001b[38;5;28mprint\u001b[39m(\u001b[38;5;124mf\u001b[39m\u001b[38;5;124m\"\u001b[39m\u001b[38;5;124mTiempo de ejecución: \u001b[39m\u001b[38;5;132;01m{\u001b[39;00mfin\u001b[38;5;250m \u001b[39m\u001b[38;5;241m-\u001b[39m\u001b[38;5;250m \u001b[39minicio\u001b[38;5;132;01m}\u001b[39;00m\u001b[38;5;124m segundos\u001b[39m\u001b[38;5;124m\"\u001b[39m)\n",
      "File \u001b[1;32mc:\\Users\\Victor\\Desktop\\latam\\latam-challenge\\src\\q3_time.py:24\u001b[0m, in \u001b[0;36mq3_time\u001b[1;34m(file_path)\u001b[0m\n\u001b[0;32m      7\u001b[0m \u001b[38;5;250m\u001b[39m\u001b[38;5;124;03m\"\"\"\u001b[39;00m\n\u001b[0;32m      8\u001b[0m \u001b[38;5;124;03mFunción que obtiene los 10 usuarios (@) más mencionados en los tweets, optimizada para tiempo de ejecución.\u001b[39;00m\n\u001b[0;32m      9\u001b[0m \u001b[38;5;124;03m\u001b[39;00m\n\u001b[1;32m   (...)\u001b[0m\n\u001b[0;32m     20\u001b[0m \u001b[38;5;124;03m- El archivo puede cargarse completamente en memoria.\u001b[39;00m\n\u001b[0;32m     21\u001b[0m \u001b[38;5;124;03m\"\"\"\u001b[39;00m\n\u001b[0;32m     23\u001b[0m \u001b[38;5;66;03m# Cargar los datos completos\u001b[39;00m\n\u001b[1;32m---> 24\u001b[0m data \u001b[38;5;241m=\u001b[39m load_data(file_path)\n\u001b[0;32m     26\u001b[0m \u001b[38;5;66;03m# Inicializamos un contador para los usuarios mencionados\u001b[39;00m\n\u001b[0;32m     27\u001b[0m mention_counter \u001b[38;5;241m=\u001b[39m Counter()\n",
      "File \u001b[1;32mc:\\Users\\Victor\\Desktop\\latam\\latam-challenge\\src\\utils.py:17\u001b[0m, in \u001b[0;36mload_data\u001b[1;34m(file_path)\u001b[0m\n\u001b[0;32m      4\u001b[0m \u001b[38;5;250m\u001b[39m\u001b[38;5;124;03m\"\"\"\u001b[39;00m\n\u001b[0;32m      5\u001b[0m \u001b[38;5;124;03mCarga y procesa datos desde un archivo JSON.\u001b[39;00m\n\u001b[0;32m      6\u001b[0m \u001b[38;5;124;03m\u001b[39;00m\n\u001b[1;32m   (...)\u001b[0m\n\u001b[0;32m     14\u001b[0m \u001b[38;5;124;03m- Este archivo debe ser usado por todas las funciones de procesamiento que necesiten cargar datos JSON.\u001b[39;00m\n\u001b[0;32m     15\u001b[0m \u001b[38;5;124;03m\"\"\"\u001b[39;00m\n\u001b[0;32m     16\u001b[0m \u001b[38;5;28;01mwith\u001b[39;00m \u001b[38;5;28mopen\u001b[39m(file_path, \u001b[38;5;124m'\u001b[39m\u001b[38;5;124mr\u001b[39m\u001b[38;5;124m'\u001b[39m) \u001b[38;5;28;01mas\u001b[39;00m file:\n\u001b[1;32m---> 17\u001b[0m     data \u001b[38;5;241m=\u001b[39m json\u001b[38;5;241m.\u001b[39mload(file)\n\u001b[0;32m     18\u001b[0m \u001b[38;5;28;01mreturn\u001b[39;00m data\n",
      "File \u001b[1;32mc:\\Users\\Victor\\anaconda3\\Lib\\json\\__init__.py:293\u001b[0m, in \u001b[0;36mload\u001b[1;34m(fp, cls, object_hook, parse_float, parse_int, parse_constant, object_pairs_hook, **kw)\u001b[0m\n\u001b[0;32m    274\u001b[0m \u001b[38;5;28;01mdef\u001b[39;00m \u001b[38;5;21mload\u001b[39m(fp, \u001b[38;5;241m*\u001b[39m, \u001b[38;5;28mcls\u001b[39m\u001b[38;5;241m=\u001b[39m\u001b[38;5;28;01mNone\u001b[39;00m, object_hook\u001b[38;5;241m=\u001b[39m\u001b[38;5;28;01mNone\u001b[39;00m, parse_float\u001b[38;5;241m=\u001b[39m\u001b[38;5;28;01mNone\u001b[39;00m,\n\u001b[0;32m    275\u001b[0m         parse_int\u001b[38;5;241m=\u001b[39m\u001b[38;5;28;01mNone\u001b[39;00m, parse_constant\u001b[38;5;241m=\u001b[39m\u001b[38;5;28;01mNone\u001b[39;00m, object_pairs_hook\u001b[38;5;241m=\u001b[39m\u001b[38;5;28;01mNone\u001b[39;00m, \u001b[38;5;241m*\u001b[39m\u001b[38;5;241m*\u001b[39mkw):\n\u001b[0;32m    276\u001b[0m \u001b[38;5;250m    \u001b[39m\u001b[38;5;124;03m\"\"\"Deserialize ``fp`` (a ``.read()``-supporting file-like object containing\u001b[39;00m\n\u001b[0;32m    277\u001b[0m \u001b[38;5;124;03m    a JSON document) to a Python object.\u001b[39;00m\n\u001b[0;32m    278\u001b[0m \n\u001b[1;32m   (...)\u001b[0m\n\u001b[0;32m    291\u001b[0m \u001b[38;5;124;03m    kwarg; otherwise ``JSONDecoder`` is used.\u001b[39;00m\n\u001b[0;32m    292\u001b[0m \u001b[38;5;124;03m    \"\"\"\u001b[39;00m\n\u001b[1;32m--> 293\u001b[0m     \u001b[38;5;28;01mreturn\u001b[39;00m loads(fp\u001b[38;5;241m.\u001b[39mread(),\n\u001b[0;32m    294\u001b[0m         \u001b[38;5;28mcls\u001b[39m\u001b[38;5;241m=\u001b[39m\u001b[38;5;28mcls\u001b[39m, object_hook\u001b[38;5;241m=\u001b[39mobject_hook,\n\u001b[0;32m    295\u001b[0m         parse_float\u001b[38;5;241m=\u001b[39mparse_float, parse_int\u001b[38;5;241m=\u001b[39mparse_int,\n\u001b[0;32m    296\u001b[0m         parse_constant\u001b[38;5;241m=\u001b[39mparse_constant, object_pairs_hook\u001b[38;5;241m=\u001b[39mobject_pairs_hook, \u001b[38;5;241m*\u001b[39m\u001b[38;5;241m*\u001b[39mkw)\n",
      "File \u001b[1;32mc:\\Users\\Victor\\anaconda3\\Lib\\json\\__init__.py:346\u001b[0m, in \u001b[0;36mloads\u001b[1;34m(s, cls, object_hook, parse_float, parse_int, parse_constant, object_pairs_hook, **kw)\u001b[0m\n\u001b[0;32m    341\u001b[0m     s \u001b[38;5;241m=\u001b[39m s\u001b[38;5;241m.\u001b[39mdecode(detect_encoding(s), \u001b[38;5;124m'\u001b[39m\u001b[38;5;124msurrogatepass\u001b[39m\u001b[38;5;124m'\u001b[39m)\n\u001b[0;32m    343\u001b[0m \u001b[38;5;28;01mif\u001b[39;00m (\u001b[38;5;28mcls\u001b[39m \u001b[38;5;129;01mis\u001b[39;00m \u001b[38;5;28;01mNone\u001b[39;00m \u001b[38;5;129;01mand\u001b[39;00m object_hook \u001b[38;5;129;01mis\u001b[39;00m \u001b[38;5;28;01mNone\u001b[39;00m \u001b[38;5;129;01mand\u001b[39;00m\n\u001b[0;32m    344\u001b[0m         parse_int \u001b[38;5;129;01mis\u001b[39;00m \u001b[38;5;28;01mNone\u001b[39;00m \u001b[38;5;129;01mand\u001b[39;00m parse_float \u001b[38;5;129;01mis\u001b[39;00m \u001b[38;5;28;01mNone\u001b[39;00m \u001b[38;5;129;01mand\u001b[39;00m\n\u001b[0;32m    345\u001b[0m         parse_constant \u001b[38;5;129;01mis\u001b[39;00m \u001b[38;5;28;01mNone\u001b[39;00m \u001b[38;5;129;01mand\u001b[39;00m object_pairs_hook \u001b[38;5;129;01mis\u001b[39;00m \u001b[38;5;28;01mNone\u001b[39;00m \u001b[38;5;129;01mand\u001b[39;00m \u001b[38;5;129;01mnot\u001b[39;00m kw):\n\u001b[1;32m--> 346\u001b[0m     \u001b[38;5;28;01mreturn\u001b[39;00m _default_decoder\u001b[38;5;241m.\u001b[39mdecode(s)\n\u001b[0;32m    347\u001b[0m \u001b[38;5;28;01mif\u001b[39;00m \u001b[38;5;28mcls\u001b[39m \u001b[38;5;129;01mis\u001b[39;00m \u001b[38;5;28;01mNone\u001b[39;00m:\n\u001b[0;32m    348\u001b[0m     \u001b[38;5;28mcls\u001b[39m \u001b[38;5;241m=\u001b[39m JSONDecoder\n",
      "File \u001b[1;32mc:\\Users\\Victor\\anaconda3\\Lib\\json\\decoder.py:340\u001b[0m, in \u001b[0;36mJSONDecoder.decode\u001b[1;34m(self, s, _w)\u001b[0m\n\u001b[0;32m    338\u001b[0m end \u001b[38;5;241m=\u001b[39m _w(s, end)\u001b[38;5;241m.\u001b[39mend()\n\u001b[0;32m    339\u001b[0m \u001b[38;5;28;01mif\u001b[39;00m end \u001b[38;5;241m!=\u001b[39m \u001b[38;5;28mlen\u001b[39m(s):\n\u001b[1;32m--> 340\u001b[0m     \u001b[38;5;28;01mraise\u001b[39;00m JSONDecodeError(\u001b[38;5;124m\"\u001b[39m\u001b[38;5;124mExtra data\u001b[39m\u001b[38;5;124m\"\u001b[39m, s, end)\n\u001b[0;32m    341\u001b[0m \u001b[38;5;28;01mreturn\u001b[39;00m obj\n",
      "\u001b[1;31mJSONDecodeError\u001b[0m: Extra data: line 2 column 1 (char 6302)"
     ]
    }
   ],
   "source": []
  },
  {
   "cell_type": "code",
   "execution_count": 10,
   "metadata": {},
   "outputs": [
    {
     "name": "stdout",
     "output_type": "stream",
     "text": [
      "Q3 - Optimización en memoria\n"
     ]
    },
    {
     "ename": "KeyError",
     "evalue": "'text'",
     "output_type": "error",
     "traceback": [
      "\u001b[1;31m---------------------------------------------------------------------------\u001b[0m",
      "\u001b[1;31mKeyError\u001b[0m                                  Traceback (most recent call last)",
      "Cell \u001b[1;32mIn[10], line 2\u001b[0m\n\u001b[0;32m      1\u001b[0m \u001b[38;5;28mprint\u001b[39m(\u001b[38;5;124m\"\u001b[39m\u001b[38;5;124mQ3 - Optimización en memoria\u001b[39m\u001b[38;5;124m\"\u001b[39m)\n\u001b[1;32m----> 2\u001b[0m q3_memory_result \u001b[38;5;241m=\u001b[39m medir_memoria(q3_memory, file_path)\n\u001b[0;32m      3\u001b[0m \u001b[38;5;28mprint\u001b[39m(q3_memory_result)\n",
      "Cell \u001b[1;32mIn[2], line 14\u001b[0m, in \u001b[0;36mmedir_memoria\u001b[1;34m(func, *args)\u001b[0m\n\u001b[0;32m     12\u001b[0m \u001b[38;5;28;01mdef\u001b[39;00m \u001b[38;5;21mmedir_memoria\u001b[39m(func, \u001b[38;5;241m*\u001b[39margs):\n\u001b[0;32m     13\u001b[0m     memoria_inicial \u001b[38;5;241m=\u001b[39m memory_usage(\u001b[38;5;241m-\u001b[39m\u001b[38;5;241m1\u001b[39m, interval\u001b[38;5;241m=\u001b[39m\u001b[38;5;241m0.1\u001b[39m, timeout\u001b[38;5;241m=\u001b[39m\u001b[38;5;241m1\u001b[39m)\n\u001b[1;32m---> 14\u001b[0m     resultado \u001b[38;5;241m=\u001b[39m func(\u001b[38;5;241m*\u001b[39margs)\n\u001b[0;32m     15\u001b[0m     memoria_final \u001b[38;5;241m=\u001b[39m memory_usage(\u001b[38;5;241m-\u001b[39m\u001b[38;5;241m1\u001b[39m, interval\u001b[38;5;241m=\u001b[39m\u001b[38;5;241m0.1\u001b[39m, timeout\u001b[38;5;241m=\u001b[39m\u001b[38;5;241m1\u001b[39m)\n\u001b[0;32m     16\u001b[0m     \u001b[38;5;28mprint\u001b[39m(\u001b[38;5;124mf\u001b[39m\u001b[38;5;124m\"\u001b[39m\u001b[38;5;124mMemoria usada: \u001b[39m\u001b[38;5;132;01m{\u001b[39;00mmemoria_final[\u001b[38;5;241m0\u001b[39m]\u001b[38;5;250m \u001b[39m\u001b[38;5;241m-\u001b[39m\u001b[38;5;250m \u001b[39mmemoria_inicial[\u001b[38;5;241m0\u001b[39m]\u001b[38;5;132;01m}\u001b[39;00m\u001b[38;5;124m MiB\u001b[39m\u001b[38;5;124m\"\u001b[39m)\n",
      "File \u001b[1;32mc:\\Users\\Victor\\Desktop\\latam\\latam-challenge\\src\\q3_memory.py:33\u001b[0m, in \u001b[0;36mq3_memory\u001b[1;34m(file_path)\u001b[0m\n\u001b[0;32m     31\u001b[0m     \u001b[38;5;28;01mfor\u001b[39;00m line \u001b[38;5;129;01min\u001b[39;00m file:\n\u001b[0;32m     32\u001b[0m         tweet \u001b[38;5;241m=\u001b[39m json\u001b[38;5;241m.\u001b[39mloads(line)\n\u001b[1;32m---> 33\u001b[0m         mentions \u001b[38;5;241m=\u001b[39m mention_pattern\u001b[38;5;241m.\u001b[39mfindall(tweet[\u001b[38;5;124m'\u001b[39m\u001b[38;5;124mtext\u001b[39m\u001b[38;5;124m'\u001b[39m])\n\u001b[0;32m     34\u001b[0m         mention_counter\u001b[38;5;241m.\u001b[39mupdate(mentions)\n\u001b[0;32m     36\u001b[0m \u001b[38;5;66;03m# Obtener los 10 usuarios más mencionados\u001b[39;00m\n",
      "\u001b[1;31mKeyError\u001b[0m: 'text'"
     ]
    }
   ],
   "source": []
  },
  {
   "cell_type": "markdown",
   "metadata": {},
   "source": []
  }
 ],
 "metadata": {
  "kernelspec": {
   "display_name": "base",
   "language": "python",
   "name": "python3"
  },
  "language_info": {
   "codemirror_mode": {
    "name": "ipython",
    "version": 3
   },
   "file_extension": ".py",
   "mimetype": "text/x-python",
   "name": "python",
   "nbconvert_exporter": "python",
   "pygments_lexer": "ipython3",
   "version": "3.12.4"
  },
  "orig_nbformat": 4
 },
 "nbformat": 4,
 "nbformat_minor": 2
}
